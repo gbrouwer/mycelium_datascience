{
 "cells": [
  {
   "cell_type": "markdown",
   "metadata": {
    "id": "xfNT-mlFwxVM"
   },
   "source": [
    "# Preprocess LFW data"
   ]
  },
  {
   "cell_type": "markdown",
   "metadata": {},
   "source": [
    "### Import"
   ]
  },
  {
   "cell_type": "code",
   "execution_count": 5,
   "metadata": {},
   "outputs": [],
   "source": [
    "import os\n",
    "import sys\n",
    "import numpy as np\n",
    "import pandas as pd\n",
    "import pickle\n",
    "import re\n",
    "from PIL import Image\n",
    "from tqdm import tqdm"
   ]
  },
  {
   "cell_type": "markdown",
   "metadata": {},
   "source": [
    "### Find all the files"
   ]
  },
  {
   "cell_type": "code",
   "execution_count": 3,
   "metadata": {},
   "outputs": [],
   "source": [
    "image_files = []\n",
    "for root, dirs, files in os.walk(\"../../data/lfw/images/raw/\", topdown=False):\n",
    "    for name in files:\n",
    "        if '.jpg' in name:\n",
    "            image_files.append(os.path.join(root, name))"
   ]
  },
  {
   "cell_type": "markdown",
   "metadata": {},
   "source": [
    "### Loop Through Images and convert and store"
   ]
  },
  {
   "cell_type": "code",
   "execution_count": 47,
   "metadata": {},
   "outputs": [
    {
     "name": "stderr",
     "output_type": "stream",
     "text": [
      "100%|█████████████████████████████████████████████████████████████████████████████████████████████████████████████| 13233/13233 [00:41<00:00, 318.40it/s]\n"
     ]
    }
   ],
   "source": [
    "data = []\n",
    "im_250_250_color_images = []\n",
    "im_250_250_bw_images = []\n",
    "im_128_128_color_images = []\n",
    "im_128_128_bw_images = []\n",
    "im_64_64_color_images = []\n",
    "im_64_64_bw_images = []\n",
    "\n",
    "for i in tqdm(range(len(image_files))):\n",
    "    filename = image_files[i]\n",
    "    elements = filename.split('/')\n",
    "    name = elements[-2].lower()\n",
    "    im = Image.open(filename)\n",
    "\n",
    "    im_250_250_color = im\n",
    "    im_250_250_bw = im.convert(\"L\")\n",
    "    im_250_250_color_filename = '../../data/lfw/images/processed/250x250_color/' + str(i) + '.jpg'\n",
    "    im_250_250_bw_filename = '../../data/lfw/images/processed/250x250_bw/' + str(i) + '.jpg'\n",
    "    im_250_250_color.save(im_250_250_color_filename)\n",
    "    im_250_250_bw.save(im_250_250_bw_filename)\n",
    "    im_250_250_color_images.append(np.array(im_250_250_color))\n",
    "    im_250_250_bw_images.append(np.array(im_250_250_bw))    \n",
    "    \n",
    "    im_128_128_color = im.resize((128,128))\n",
    "    im_128_128_bw = im_128_128_color.convert(\"L\")\n",
    "    im_128_128_color_filename = '../../data/lfw/images/processed/128x128_color/' + str(i) + '.jpg'\n",
    "    im_128_128_bw_filename = '../../data/lfw/images/processed/128x128_bw/' + str(i) + '.jpg'\n",
    "    im_128_128_color.save(im_128_128_color_filename)\n",
    "    im_128_128_bw.save(im_128_128_bw_filename)\n",
    "    im_128_128_color_images.append(np.array(im_128_128_color))\n",
    "    im_128_128_bw_images.append(np.array(im_128_128_bw))    \n",
    "\n",
    "    im_64_64_color = im.resize((64,64))\n",
    "    im_64_64_bw = im_64_64_color.convert(\"L\")\n",
    "    im_64_64_color_filename = '../../data/lfw/images/processed/64x64_color/' + str(i) + '.jpg'\n",
    "    im_64_64_bw_filename = '../../data/lfw/images/processed/64x64_bw/' + str(i) + '.jpg'\n",
    "    im_64_64_color.save(im_64_64_color_filename)\n",
    "    im_64_64_bw.save(im_64_64_bw_filename)\n",
    "    im_64_64_color_images.append(np.array(im_64_64_color))\n",
    "    im_64_64_bw_images.append(np.array(im_64_64_bw))    \n",
    "\n",
    "    ###Add to Dataframe\n",
    "    data.append((i,name,\n",
    "                 im_250_250_color_filename,\n",
    "                 im_250_250_bw_filename,\n",
    "                 im_128_128_color_filename,\n",
    "                 im_128_128_bw_filename,\n",
    "                 im_64_64_color_filename,\n",
    "                 im_64_64_bw_filename))\n",
    "\n",
    "data = pd.DataFrame(data)\n",
    "data.to_csv('../../data/lfw/meta/meta.csv',index=False)\n",
    "\n",
    "X = {}\n",
    "X['data'] = im_64_64_bw_images\n",
    "pickle.dump(X, open(\"../../data/lfw/pickle/im_64_64_bw.p\",\"wb\"))\n",
    "\n",
    "X = {}\n",
    "X['data'] = im_64_64_color_images\n",
    "pickle.dump(X, open(\"../../data/lfw/pickle/im_64_64_color.p\",\"wb\"))\n",
    "\n",
    "X = {}\n",
    "X['data'] = im_128_128_bw_images\n",
    "pickle.dump(X, open(\"../../data/lfw/pickle/im_128_128_bw.p\",\"wb\"))\n",
    "\n",
    "X = {}\n",
    "X['data'] = im_128_128_color_images\n",
    "pickle.dump(X, open(\"../../data/lfw/pickle/im_128_128_color.p\",\"wb\"))\n",
    "\n",
    "X = {}\n",
    "X['data'] = im_250_250_bw_images\n",
    "pickle.dump(X, open(\"../../data/lfw/pickle/im_250_250_bw.p\",\"wb\"))\n",
    "\n",
    "X = {}\n",
    "X['data'] = im_250_250_color_images\n",
    "pickle.dump(X, open(\"../../data/lfw/pickle/im_250_250_color.p\",\"wb\"))"
   ]
  },
  {
   "cell_type": "code",
   "execution_count": null,
   "metadata": {},
   "outputs": [],
   "source": []
  }
 ],
 "metadata": {
  "accelerator": "GPU",
  "colab": {
   "collapsed_sections": [],
   "name": "cvae.ipynb",
   "toc_visible": true
  },
  "kernelspec": {
   "display_name": "Python 3 (ipykernel)",
   "language": "python",
   "name": "python3"
  },
  "language_info": {
   "codemirror_mode": {
    "name": "ipython",
    "version": 3
   },
   "file_extension": ".py",
   "mimetype": "text/x-python",
   "name": "python",
   "nbconvert_exporter": "python",
   "pygments_lexer": "ipython3",
   "version": "3.10.6"
  }
 },
 "nbformat": 4,
 "nbformat_minor": 1
}
