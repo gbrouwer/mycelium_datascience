{
 "cells": [
  {
   "cell_type": "markdown",
   "metadata": {
    "id": "xfNT-mlFwxVM"
   },
   "source": [
    "# Variational Autoencoder - CelebA data"
   ]
  },
  {
   "cell_type": "markdown",
   "metadata": {},
   "source": [
    "### Import"
   ]
  },
  {
   "cell_type": "code",
   "execution_count": 1,
   "metadata": {},
   "outputs": [],
   "source": [
    "import os\n",
    "import sys\n",
    "import argparse\n",
    "import torch\n",
    "import visdom\n",
    "import numpy as np\n",
    "import pandas as pd\n",
    "import torch\n",
    "import matplotlib.pyplot as plt\n",
    "from collections import defaultdict\n",
    "from torchvision import transforms\n",
    "from torch.utils.data import Dataset\n",
    "from PIL import Image\n",
    "from tqdm import tqdm\n",
    "from torch import nn\n",
    "from torch.autograd import Variable\n",
    "from torch.nn import functional as F\n",
    "from lib_cpu.utils import CroppedCelebA\n",
    "from lib_cpu.models.VAE import VAE"
   ]
  },
  {
   "cell_type": "markdown",
   "metadata": {},
   "source": [
    "### Parameters"
   ]
  },
  {
   "cell_type": "code",
   "execution_count": 2,
   "metadata": {},
   "outputs": [],
   "source": [
    "modeltype = 'VAE'\n",
    "n_epochs=1\n",
    "start_epoch=0\n",
    "batch_size=128\n",
    "lr=0.0001\n",
    "beta1=0.5\n",
    "beta2=0.999\n",
    "n_fil=128\n",
    "z_dim=88\n",
    "n_critic=5\n",
    "n_gen=1                     \n",
    "use_visdomt=True\n",
    "visdom_host='http://localhost'\n",
    "visdom_port=8097\n",
    "visdom_env='main'\n",
    "plot_freq=10\n",
    "chkp_freq=1\n",
    "preload_model=False\n",
    "load_dir = '../../data/celeba/models/'\n",
    "save_dir= '../../data/celeba/models/'\n",
    "imgs_dir = '../../data/celeba/generated/'\n",
    "choices=['VAE', 'DCGAN', 'VAEGAN', 'LSGAN', 'WGAN', 'WGANGP', \"InfoGAN\", 'BEGAN']"
   ]
  },
  {
   "cell_type": "markdown",
   "metadata": {},
   "source": [
    "### Create VAE Model"
   ]
  },
  {
   "cell_type": "code",
   "execution_count": 3,
   "metadata": {},
   "outputs": [
    {
     "name": "stderr",
     "output_type": "stream",
     "text": [
      "Setting up a new session...\n"
     ]
    }
   ],
   "source": [
    "n_attrs = 40\n",
    "viz = visdom.Visdom(server=visdom_host, port=visdom_port, env=visdom_env)\n",
    "celeba_data = CroppedCelebA(\"../../data/celeba/\")\n",
    "model = VAE(n_fil, z_dim, n_attrs, viz)"
   ]
  },
  {
   "cell_type": "markdown",
   "metadata": {},
   "source": [
    "### Initialize"
   ]
  },
  {
   "cell_type": "code",
   "execution_count": 4,
   "metadata": {},
   "outputs": [],
   "source": [
    "model.init_optimizers(lr, beta1, beta2)\n",
    "model.n_gen = n_gen\n",
    "model.n_critic = n_critic\n",
    "preload_model = True\n",
    "if preload_model:\n",
    "    model.load(load_dir,0)"
   ]
  },
  {
   "cell_type": "markdown",
   "metadata": {},
   "source": [
    "### Training"
   ]
  },
  {
   "cell_type": "code",
   "execution_count": null,
   "metadata": {},
   "outputs": [],
   "source": [
    "# model.train_model(celeba_data, n_epochs=n_epochs, batch_size=batch_size,\n",
    "#                   start_epoch=start_epoch,\n",
    "#                   models_dir=save_dir, imgs_dir=imgs_dir,\n",
    "#                   chkp_freq=chkp_freq, plot_freq=plot_freq)\n",
    "# model.save(save_dir)"
   ]
  },
  {
   "cell_type": "markdown",
   "metadata": {},
   "source": [
    "### Image Transform"
   ]
  },
  {
   "cell_type": "code",
   "execution_count": 6,
   "metadata": {},
   "outputs": [],
   "source": [
    "h, w = 218, 178\n",
    "size = 64, 64\n",
    "img_transform = transforms.Compose([\n",
    "    transforms.Lambda(lambda x: x.crop((25, 45, w-25, h-45))),\n",
    "    transforms.Resize(size=size, interpolation=transforms.InterpolationMode.BICUBIC),\n",
    "    transforms.ToTensor() ])"
   ]
  },
  {
   "cell_type": "markdown",
   "metadata": {},
   "source": [
    "### Load, Transform and convert to tensorflow tensor helper function"
   ]
  },
  {
   "cell_type": "code",
   "execution_count": 7,
   "metadata": {},
   "outputs": [],
   "source": [
    "def load_and_transform(filename,attrs):\n",
    "    \n",
    "    sample = Image.open(filename)\n",
    "    sample = img_transform(sample)\n",
    "    sample = sample[None, :]\n",
    "    return sample"
   ]
  },
  {
   "cell_type": "markdown",
   "metadata": {},
   "source": [
    "### New Dataloader"
   ]
  },
  {
   "cell_type": "code",
   "execution_count": 34,
   "metadata": {},
   "outputs": [],
   "source": [
    "data_loader = torch.utils.data.DataLoader(celeba_data,\n",
    "                                          batch_size=32,\n",
    "                                          shuffle=True,\n",
    "                                          num_workers=0)\n",
    "(imgs, attrs) = next(iter(data_loader))"
   ]
  },
  {
   "cell_type": "markdown",
   "metadata": {},
   "source": [
    "### Reconstruct random image"
   ]
  },
  {
   "cell_type": "code",
   "execution_count": 37,
   "metadata": {},
   "outputs": [],
   "source": [
    "# index = str(np.random.randint(200000)).zfill(6)\n",
    "# index = '007442'\n",
    "# filename = '../../data/celeba/images/' + index + '.jpg'\n",
    "# img = load_and_transform(filename,attrs)\n",
    "#imgs[0,:,:,:] = img\n",
    "x = model.encoder(imgs,attrs)\n",
    "z_mean = x[:, :model.G.z_dim]\n",
    "z_log_var = x[:, model.G.z_dim:]\n",
    "z = model.sample(z_mean, z_log_var)\n",
    "decoded_imgs = model.G(z, attrs)\n",
    "Y = decoded_imgs.detach().numpy()[0,:,:,:]\n",
    "X = imgs.detach().numpy()[0,:,:,:]\n",
    "X = np.transpose(X,(1,2,0))\n",
    "Y = np.transpose(Y,(1,2,0))"
   ]
  },
  {
   "cell_type": "markdown",
   "metadata": {},
   "source": [
    "### Plot"
   ]
  },
  {
   "cell_type": "code",
   "execution_count": 38,
   "metadata": {},
   "outputs": [
    {
     "data": {
      "text/plain": [
       "(-0.5, 63.5, 63.5, -0.5)"
      ]
     },
     "execution_count": 38,
     "metadata": {},
     "output_type": "execute_result"
    },
    {
     "data": {
      "image/png": "[encoded data removed]",
      "text/plain": [
       "<Figure size 900x400 with 2 Axes>"
      ]
     },
     "metadata": {},
     "output_type": "display_data"
    }
   ],
   "source": [
    "plt.figure(figsize=(9,4))\n",
    "plt.subplot(1,2,1)\n",
    "plt.imshow(X)\n",
    "plt.axis('off')\n",
    "plt.subplot(1,2,2)\n",
    "plt.imshow(Y)\n",
    "plt.axis('off')"
   ]
  },
  {
   "cell_type": "code",
   "execution_count": null,
   "metadata": {},
   "outputs": [],
   "source": []
  }
 ],
 "metadata": {
  "accelerator": "GPU",
  "colab": {
   "collapsed_sections": [],
   "name": "cvae.ipynb",
   "toc_visible": true
  },
  "kernelspec": {
   "display_name": "Python 3 (ipykernel)",
   "language": "python",
   "name": "python3"
  },
  "language_info": {
   "codemirror_mode": {
    "name": "ipython",
    "version": 3
   },
   "file_extension": ".py",
   "mimetype": "text/x-python",
   "name": "python",
   "nbconvert_exporter": "python",
   "pygments_lexer": "ipython3",
   "version": "3.10.6"
  }
 },
 "nbformat": 4,
 "nbformat_minor": 1
}
