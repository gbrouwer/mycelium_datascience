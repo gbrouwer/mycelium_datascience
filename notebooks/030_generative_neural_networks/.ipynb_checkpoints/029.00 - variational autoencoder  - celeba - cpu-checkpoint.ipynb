{
 "cells": [
  {
   "cell_type": "markdown",
   "metadata": {
    "id": "xfNT-mlFwxVM"
   },
   "source": [
    "# Variational Autoencoder - CelebA data"
   ]
  },
  {
   "cell_type": "markdown",
   "metadata": {},
   "source": [
    "### Import"
   ]
  },
  {
   "cell_type": "code",
   "execution_count": 1,
   "metadata": {},
   "outputs": [],
   "source": [
    "import os\n",
    "import sys\n",
    "import argparse\n",
    "import torch\n",
    "import visdom\n",
    "import numpy as np\n",
    "import pandas as pd\n",
    "import torch\n",
    "import matplotlib.pyplot as plt\n",
    "from collections import defaultdict\n",
    "from torchvision import transforms\n",
    "from torch.utils.data import Dataset\n",
    "from PIL import Image\n",
    "from tqdm import tqdm\n",
    "from torch import nn\n",
    "from torch.autograd import Variable\n",
    "from torch.nn import functional as F\n",
    "from lib_cpu.utils import CroppedCelebA\n",
    "from lib_cpu.models.VAE import VAE\n",
    "plt.switch_backend('agg')"
   ]
  },
  {
   "cell_type": "markdown",
   "metadata": {},
   "source": [
    "### Parameters"
   ]
  },
  {
   "cell_type": "code",
   "execution_count": null,
   "metadata": {},
   "outputs": [],
   "source": [
    "modeltype = 'VAE'\n",
    "n_epochs=50\n",
    "start_epoch=0\n",
    "batch_size=128\n",
    "lr=0.0001\n",
    "beta1=0.5\n",
    "beta2=0.999\n",
    "n_fil=128\n",
    "z_dim=88\n",
    "n_critic=5\n",
    "n_gen=1                     \n",
    "use_visdomt=True\n",
    "visdom_host='http://localhost'\n",
    "visdom_port=8097\n",
    "visdom_env='main'\n",
    "plot_freq=100\n",
    "chkp_freq=1\n",
    "preload_model=False\n",
    "load_dir = '../../data/celeba/models/'\n",
    "save_dir= '../../data/celeba/models/'\n",
    "imgs_dir = '../../data/celeba/generated/'\n",
    "choices=['VAE', 'DCGAN', 'VAEGAN', 'LSGAN', 'WGAN', 'WGANGP', \"InfoGAN\", 'BEGAN']"
   ]
  },
  {
   "cell_type": "markdown",
   "metadata": {},
   "source": [
    "### Create VAE Model"
   ]
  },
  {
   "cell_type": "code",
   "execution_count": null,
   "metadata": {},
   "outputs": [],
   "source": [
    "n_attrs = 40\n",
    "viz = visdom.Visdom(server=visdom_host, port=visdom_port, env=visdom_env)\n",
    "celeba_data = CroppedCelebA(\"../../data/celeba/\")\n",
    "model = VAE(n_fil, z_dim, n_attrs, viz)"
   ]
  },
  {
   "cell_type": "markdown",
   "metadata": {},
   "source": [
    "### Initialize"
   ]
  },
  {
   "cell_type": "code",
   "execution_count": null,
   "metadata": {},
   "outputs": [],
   "source": [
    "model.init_optimizers(lr, beta1, beta2)\n",
    "model.n_gen = n_gen\n",
    "model.n_critic = n_critic\n",
    "if preload_model:\n",
    "    model.load(load_dir, args.start_epoch-1)"
   ]
  },
  {
   "cell_type": "markdown",
   "metadata": {},
   "source": [
    "### Training"
   ]
  },
  {
   "cell_type": "code",
   "execution_count": null,
   "metadata": {},
   "outputs": [],
   "source": [
    "model.train_model(celeba_data, n_epochs=n_epochs, batch_size=batch_size,\n",
    "                  start_epoch=start_epoch,\n",
    "                  models_dir=save_dir, imgs_dir=imgs_dir,\n",
    "                  chkp_freq=chkp_freq, plot_freq=plot_freq)\n",
    "model.save(save_dir)"
   ]
  }
 ],
 "metadata": {
  "accelerator": "GPU",
  "colab": {
   "collapsed_sections": [],
   "name": "cvae.ipynb",
   "toc_visible": true
  },
  "kernelspec": {
   "display_name": "Python 3 (ipykernel)",
   "language": "python",
   "name": "python3"
  },
  "language_info": {
   "codemirror_mode": {
    "name": "ipython",
    "version": 3
   },
   "file_extension": ".py",
   "mimetype": "text/x-python",
   "name": "python",
   "nbconvert_exporter": "python",
   "pygments_lexer": "ipython3",
   "version": "3.10.6"
  }
 },
 "nbformat": 4,
 "nbformat_minor": 1
}
