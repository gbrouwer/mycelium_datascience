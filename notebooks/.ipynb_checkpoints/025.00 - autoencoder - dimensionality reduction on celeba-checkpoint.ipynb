{
 "cells": [
  {
   "cell_type": "markdown",
   "id": "bda5b76f",
   "metadata": {},
   "source": [
    "### Import"
   ]
  },
  {
   "cell_type": "code",
   "execution_count": 235,
   "id": "bc77ce4e",
   "metadata": {},
   "outputs": [],
   "source": [
    "import os\n",
    "import sys\n",
    "import numpy as np\n",
    "import pandas as pd\n",
    "import imageio\n",
    "import pickle\n",
    "import json\n",
    "import matplotlib.pyplot as plt\n",
    "import tensorflow as tf\n",
    "from tqdm import tqdm\n",
    "from keras import backend as K\n",
    "from PIL import Image\n",
    "from sklearn.decomposition import PCA\n",
    "from tensorflow import keras\n",
    "from tensorflow.keras import datasets, layers, models\n",
    "from sklearn.metrics import accuracy_score, precision_score, recall_score\n",
    "from sklearn.model_selection import train_test_split\n",
    "from tensorflow.keras import layers, losses"
   ]
  },
  {
   "cell_type": "markdown",
   "id": "f3267d27",
   "metadata": {},
   "source": [
    "### Fonts"
   ]
  },
  {
   "cell_type": "code",
   "execution_count": 236,
   "id": "2368b8a9",
   "metadata": {},
   "outputs": [],
   "source": [
    "csfont = {'fontname':'Georgia'}\n",
    "hfont = {'fontname':'Helvetica'}"
   ]
  },
  {
   "cell_type": "markdown",
   "id": "c3ef2cbd",
   "metadata": {},
   "source": [
    "### Parameters"
   ]
  },
  {
   "cell_type": "code",
   "execution_count": 237,
   "id": "b3176d7d",
   "metadata": {},
   "outputs": [],
   "source": [
    "image_size = 64\n",
    "latent_dim = 10\n",
    "vector_size = image_size * image_size"
   ]
  },
  {
   "cell_type": "markdown",
   "id": "3deaba02",
   "metadata": {},
   "source": [
    "### Preprocessing Helper Function"
   ]
  },
  {
   "cell_type": "code",
   "execution_count": 238,
   "id": "3a596d4b",
   "metadata": {},
   "outputs": [],
   "source": [
    "def process_image(image):\n",
    "    image=tf.image.per_image_standardization(image)\n",
    "    image=tf.image.resize(image,(64,64))\n",
    "    return image"
   ]
  },
  {
   "cell_type": "markdown",
   "id": "e834004b",
   "metadata": {},
   "source": [
    "### Get All Files"
   ]
  },
  {
   "cell_type": "code",
   "execution_count": 239,
   "id": "66ba3e32",
   "metadata": {},
   "outputs": [],
   "source": [
    "myfiles = []\n",
    "for root, dirs, files in os.walk(\"../../data/celeba/pickle\", topdown=False):\n",
    "    for name in files:\n",
    "        if '.p' in name:\n",
    "            myfiles.append(os.path.join(root, name))\n",
    "myfiles = np.sort(myfiles)"
   ]
  },
  {
   "cell_type": "markdown",
   "id": "972037b5",
   "metadata": {},
   "source": [
    "### Load a few of the files in for exploration"
   ]
  },
  {
   "cell_type": "code",
   "execution_count": null,
   "id": "0586dc13",
   "metadata": {},
   "outputs": [],
   "source": [
    "data = pickle.load( open(myfiles[0], \"rb\" ))\n",
    "X = data['X']\n",
    "for datafile in myfiles[1:9]:\n",
    "    data = pickle.load( open(datafile, \"rb\"))\n",
    "    X = np.vstack((X,data['X']))\n",
    "y = np.zeros((X.shape[0]))\n",
    "X = X / 255.0"
   ]
  },
  {
   "cell_type": "markdown",
   "id": "b5f13b00",
   "metadata": {},
   "source": [
    "### Divide the data"
   ]
  },
  {
   "cell_type": "code",
   "execution_count": null,
   "id": "7a865d17",
   "metadata": {},
   "outputs": [],
   "source": [
    "X_train, X_test, y_train, y_test = train_test_split(X, y, test_size=0.2, random_state=42)\n",
    "X_train = np.reshape(X_train,((X_train.shape[0],image_size,image_size,3)))\n",
    "X_test = np.reshape(X_test,((X_test.shape[0],image_size,image_size,3)))"
   ]
  },
  {
   "cell_type": "markdown",
   "id": "aaefa62f",
   "metadata": {},
   "source": [
    "### Define Autoencoder Model"
   ]
  },
  {
   "cell_type": "code",
   "execution_count": null,
   "id": "7a5e7163",
   "metadata": {},
   "outputs": [],
   "source": [
    "model = models.Sequential([\n",
    "    layers.Flatten(),\n",
    "    layers.Dense(20, activation='relu'),\n",
    "    layers.Dense(12288, activation='sigmoid'),\n",
    "    layers.Reshape((64, 64, 3))\n",
    "])"
   ]
  },
  {
   "cell_type": "markdown",
   "id": "a9f1dae0",
   "metadata": {},
   "source": [
    "### Add Preprocessing"
   ]
  },
  {
   "cell_type": "code",
   "execution_count": null,
   "id": "23758115",
   "metadata": {},
   "outputs": [],
   "source": [
    "inputs = tf.keras.Input(shape=(64, 64, 3))\n",
    "x = process_image(inputs)\n",
    "outputs = model(x, training=False)\n",
    "model = tf.keras.Model(inputs, outputs)\n",
    "model.summary()"
   ]
  },
  {
   "cell_type": "markdown",
   "id": "073fa6aa",
   "metadata": {},
   "source": [
    "### Optimizer"
   ]
  },
  {
   "cell_type": "code",
   "execution_count": null,
   "id": "4e5b0fdb",
   "metadata": {},
   "outputs": [],
   "source": [
    "optimizer = tf.keras.optimizers.Adam(\n",
    "    learning_rate=0.01,\n",
    "    beta_1=0.9,\n",
    "    beta_2=0.999,\n",
    "    epsilon=1e-07,\n",
    "    amsgrad=False,\n",
    "    name='Adam')"
   ]
  },
  {
   "cell_type": "markdown",
   "id": "2b7ea228",
   "metadata": {},
   "source": [
    "### Compile Model"
   ]
  },
  {
   "cell_type": "code",
   "execution_count": null,
   "id": "f6d7e056",
   "metadata": {},
   "outputs": [],
   "source": [
    "model.compile(optimizer='adam', loss=losses.MeanSquaredError())"
   ]
  },
  {
   "cell_type": "markdown",
   "id": "87b52f11",
   "metadata": {},
   "source": [
    "### Fit Model"
   ]
  },
  {
   "cell_type": "code",
   "execution_count": null,
   "id": "e3abae3a",
   "metadata": {
    "scrolled": false
   },
   "outputs": [],
   "source": [
    "history = model.fit(X_train, X_train, verbose=1, \n",
    "                    batch_size=128, epochs=100,\n",
    "                    validation_data=(X_test,X_test))"
   ]
  },
  {
   "cell_type": "markdown",
   "id": "37df10c9",
   "metadata": {},
   "source": [
    "### Store"
   ]
  },
  {
   "cell_type": "code",
   "execution_count": null,
   "id": "4219e87d",
   "metadata": {},
   "outputs": [],
   "source": [
    "model.save('../../models/alexnet_autoencoder_celeba');"
   ]
  },
  {
   "cell_type": "markdown",
   "id": "691437d4",
   "metadata": {},
   "source": [
    "### Plot Loss during training"
   ]
  },
  {
   "cell_type": "code",
   "execution_count": null,
   "id": "e1cc1cbc",
   "metadata": {},
   "outputs": [],
   "source": [
    "plt.figure(figsize=(7,7))\n",
    "plt.subplots_adjust(left=0.0,bottom=0, right=1.0, top=1, wspace=0.2, hspace=0)\n",
    "plt.subplot(1,1,1);\n",
    "plt.plot(history.history['loss'], lw=2,c='k', label='loss')\n",
    "plt.plot(history.history['val_loss'], lw=2,c='r',label = 'validation loss')\n",
    "plt.xlabel('Epoch',**csfont,fontsize=20)\n",
    "plt.ylabel('Loss',**csfont,fontsize=20)\n",
    "plt.yticks(np.linspace(0,0.05,11),np.round(np.linspace(0,0.05,11),2).astype(float),**csfont,fontsize=16)\n",
    "plt.xticks(np.linspace(0,100,11),np.linspace(0,100,11).astype(int),**csfont,fontsize=16)\n",
    "plt.grid()"
   ]
  },
  {
   "cell_type": "markdown",
   "id": "a090033f",
   "metadata": {},
   "source": [
    "### Predict"
   ]
  },
  {
   "cell_type": "code",
   "execution_count": null,
   "id": "028cfe7a",
   "metadata": {},
   "outputs": [],
   "source": [
    "y_pred = model.predict(X_test)"
   ]
  },
  {
   "cell_type": "markdown",
   "id": "b9f3871e",
   "metadata": {},
   "source": [
    "### Reconstruct a few faces"
   ]
  },
  {
   "cell_type": "code",
   "execution_count": null,
   "id": "c607b5db",
   "metadata": {},
   "outputs": [],
   "source": [
    "plt.figure(figsize=(12,5))\n",
    "for i in range(6):\n",
    "    randval = np.random.randint(y_pred.shape[0])\n",
    "    impred = y_pred[randval,:,:,:]\n",
    "    imact = X_test[randval,:,:,:]\n",
    "    plt.subplot(2,6,i+1)\n",
    "    plt.imshow(impred)\n",
    "    plt.axis('off')\n",
    "    plt.subplot(2,6,i+7)\n",
    "    plt.imshow(imact)\n",
    "    plt.axis('off')"
   ]
  },
  {
   "cell_type": "code",
   "execution_count": 234,
   "id": "ca86dcde",
   "metadata": {},
   "outputs": [
    {
     "name": "stdout",
     "output_type": "stream",
     "text": [
      "(None, 200)\n"
     ]
    },
    {
     "data": {
      "text/plain": [
       "<matplotlib.image.AxesImage at 0x141143df0>"
      ]
     },
     "execution_count": 234,
     "metadata": {},
     "output_type": "execute_result"
    },
    {
     "data": {
      "image/png": "[encoded data removed]",
      "text/plain": [
       "<Figure size 432x288 with 1 Axes>"
      ]
     },
     "metadata": {
      "needs_background": "light"
     },
     "output_type": "display_data"
    }
   ],
   "source": [
    "# get_3rd_layer_output = K.function([autoencoder.layers[0].layers[0].input],\n",
    "#                                   [autoencoder.layers[0].layers[2].output])\n",
    "\n",
    "# layer_output = get_3rd_layer_output(Xtest)\n",
    "print(model.layers[3].layers[2].input_shape)\n",
    "\n",
    "get_layer_output = K.function([model.layers[3].layers[2].input],[model.layers[3].layers[3].output])\n",
    "I = np.zeros((1,200))\n",
    "I[0,60] = 10\n",
    "V = get_layer_output(I)\n",
    "plt.imshow(V[0][0,:,:,:])\n",
    "\n",
    "\n",
    "# # I[:,:] = 0\n",
    "# # I[0,:] = [0,10,0,0,0,0,0,0,0,0]\n",
    "# # plt.subplot(1,2,1)\n",
    "# # plt.imshow(Xtest[0,:,:])\n",
    "# # layer_output = get_layer_output(I)\n",
    "# # im = layer_output[0][0,:,:]\n",
    "# # plt.subplot(1,2,2)\n",
    "# # plt.imshow(im)\n",
    "\n",
    "# # # # # layer_output[0].shape\n",
    "# # # # plt.imshow(layer_output[0],aspect=0.001)"
   ]
  },
  {
   "cell_type": "markdown",
   "id": "e1e2d3b9",
   "metadata": {},
   "source": [
    "# "
   ]
  }
 ],
 "metadata": {
  "kernelspec": {
   "display_name": "Python 3 (ipykernel)",
   "language": "python",
   "name": "python3"
  },
  "language_info": {
   "codemirror_mode": {
    "name": "ipython",
    "version": 3
   },
   "file_extension": ".py",
   "mimetype": "text/x-python",
   "name": "python",
   "nbconvert_exporter": "python",
   "pygments_lexer": "ipython3",
   "version": "3.9.6"
  }
 },
 "nbformat": 4,
 "nbformat_minor": 5
}
